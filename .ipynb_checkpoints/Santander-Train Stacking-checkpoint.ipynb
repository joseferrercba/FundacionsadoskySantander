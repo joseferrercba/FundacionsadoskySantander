{
 "cells": [
  {
   "cell_type": "code",
   "execution_count": 1,
   "metadata": {
    "execution": {
     "iopub.execute_input": "2020-07-08T22:01:53.424431Z",
     "iopub.status.busy": "2020-07-08T22:01:53.424431Z",
     "iopub.status.idle": "2020-07-08T22:01:56.210967Z",
     "shell.execute_reply": "2020-07-08T22:01:56.210967Z",
     "shell.execute_reply.started": "2020-07-08T22:01:53.424431Z"
    }
   },
   "outputs": [],
   "source": [
    "# compare ensemble to each baseline classifier\n",
    "from numpy import mean\n",
    "from numpy import std\n",
    "import pandas as pd \n",
    "from sklearn import preprocessing\n",
    "from classes.CustomTokenizer import CustomTokenizer\n",
    "from classes.ModelBuilder import ModelBuilder\n",
    "from sklearn.datasets import make_classification\n",
    "from sklearn.model_selection import cross_val_score\n",
    "from sklearn.model_selection import RepeatedStratifiedKFold\n",
    "from sklearn.linear_model import LogisticRegression\n",
    "from sklearn.neighbors import KNeighborsClassifier\n",
    "from sklearn.tree import DecisionTreeClassifier\n",
    "from sklearn.svm import SVC\n",
    "from sklearn.utils import shuffle\n",
    "from sklearn.naive_bayes import GaussianNB\n",
    "from sklearn.ensemble import StackingClassifier, RandomForestClassifier\n",
    "from sklearn.feature_extraction.text import CountVectorizer, TfidfTransformer, TfidfVectorizer\n",
    "from matplotlib import pyplot\n",
    "\n",
    "labelEncoders = dict()\n",
    "def labelEncoder(df, column, params = {}):    \n",
    "    le = preprocessing.LabelEncoder()        \n",
    "    le.fit(df[column])    \n",
    "    column_encoded = le.transform(df[column])\n",
    "    labelEncoders[column] = le\n",
    "    return column_encoded\n",
    "\n",
    "# get the dataset\n",
    "def get_dataset():\n",
    "    columns = ['Pregunta', 'Intencion']\n",
    "    df_train = shuffle(pd.read_csv('data/train.csv', usecols=columns, sep='|'))\n",
    "    \n",
    "    df_train['Intencion_encoded'] = labelEncoder(df_train, 'Intencion')\n",
    "    \n",
    "    X = df_train['Pregunta'].values\n",
    "    y = df_train['Intencion_encoded'].values\n",
    "\t#X, y = make_classification(n_samples=1000, n_features=20, n_informative=15, n_redundant=5, random_state=1)\n",
    "    return X, y\n",
    "\n",
    "# get a stacking ensemble of models\n",
    "def get_stacking():\n",
    "\t# define the base models\n",
    "\tlevel0 = list()\t\n",
    "\tlevel0.append(('rfc', RandomForestClassifier(criterion=\"gini\",class_weight=\"balanced_subsample\",max_features=\"log2\",n_estimators=300)))\n",
    "\tlevel0.append(('svm', SVC(C=1000, gamma=0.1)))\t\n",
    "\t# define meta learner model\n",
    "\tlevel1 = LogisticRegression()\n",
    "\t# define the stacking ensemble\n",
    "\tmodel = StackingClassifier(estimators=level0, final_estimator=level1, cv=5)\n",
    "\treturn model\n",
    "\n",
    "# get a list of models to evaluate\n",
    "def get_models():\n",
    "\tmodels = dict()\t\n",
    "\tmodels['rfc'] = RandomForestClassifier(criterion=\"gini\",class_weight=\"balanced_subsample\",max_features=\"log2\",n_estimators=300)\n",
    "\tmodels['svm'] = SVC(C=1000, gamma=0.1)\t\n",
    "\tmodels['stacking'] = get_stacking()\n",
    "\treturn models\n",
    "\n",
    "# evaluate a give model using cross-validation\n",
    "def evaluate_model(model, X, y):\n",
    "    X = [tokenizer.listToString(tokenizer.processAll(sentence)) for sentence in X]\n",
    "    #cv = RepeatedStratifiedKFold(n_splits=2, n_repeats=3, random_state=1)\n",
    "    X_vect = tfidf_vect.fit_transform(X)\n",
    "    x_trans = tfidf_trans.fit_transform(X_vect)\n",
    "    scores = cross_val_score(model, x_trans, y, scoring='accuracy', n_jobs=2, error_score='raise')\n",
    "    #RuntimeWarning: Number of classes in training fold (351) does not match total number of classes (352). Results may not be appropriate for your use case. To fix this, use a cross-validation technique resulting in properly stratified folds\n",
    "    return scores"
   ]
  },
  {
   "cell_type": "code",
   "execution_count": 2,
   "metadata": {
    "execution": {
     "iopub.execute_input": "2020-07-08T22:01:56.210967Z",
     "iopub.status.busy": "2020-07-08T22:01:56.210967Z",
     "iopub.status.idle": "2020-07-08T23:01:05.788738Z",
     "shell.execute_reply": "2020-07-08T23:01:05.785735Z",
     "shell.execute_reply.started": "2020-07-08T22:01:56.210967Z"
    }
   },
   "outputs": [
    {
     "name": "stderr",
     "output_type": "stream",
     "text": [
      "C:\\ProgramData\\Anaconda3\\envs\\data-science\\lib\\site-packages\\sklearn\\model_selection\\_split.py:672: UserWarning: The least populated class in y has only 1 members, which is less than n_splits=5.\n",
      "  % (min_groups, self.n_splits)), UserWarning)\n"
     ]
    },
    {
     "name": "stdout",
     "output_type": "stream",
     "text": [
      ">rfc 0.707 (0.002)\n"
     ]
    },
    {
     "name": "stderr",
     "output_type": "stream",
     "text": [
      "C:\\ProgramData\\Anaconda3\\envs\\data-science\\lib\\site-packages\\sklearn\\model_selection\\_split.py:672: UserWarning: The least populated class in y has only 1 members, which is less than n_splits=5.\n",
      "  % (min_groups, self.n_splits)), UserWarning)\n"
     ]
    },
    {
     "name": "stdout",
     "output_type": "stream",
     "text": [
      ">svm 0.637 (0.004)\n"
     ]
    },
    {
     "name": "stderr",
     "output_type": "stream",
     "text": [
      "C:\\ProgramData\\Anaconda3\\envs\\data-science\\lib\\site-packages\\sklearn\\model_selection\\_split.py:672: UserWarning: The least populated class in y has only 1 members, which is less than n_splits=5.\n",
      "  % (min_groups, self.n_splits)), UserWarning)\n"
     ]
    },
    {
     "name": "stdout",
     "output_type": "stream",
     "text": [
      ">stacking 0.003 (0.000)\n"
     ]
    },
    {
     "data": {
      "image/png": "[encoded data removed]",
      "text/plain": [
       "<Figure size 432x288 with 1 Axes>"
      ]
     },
     "metadata": {
      "needs_background": "light"
     },
     "output_type": "display_data"
    }
   ],
   "source": [
    "tokenizer = CustomTokenizer()\n",
    "modelBuilder = ModelBuilder()\n",
    "tfidf_vect = modelBuilder.GetVectorizer()\n",
    "tfidf_trans = TfidfTransformer(sublinear_tf=True)\n",
    "# define dataset\n",
    "X, y = get_dataset()\n",
    "# get the models to evaluate\n",
    "models = get_models()\n",
    "# evaluate the models and store results\n",
    "results, names = list(), list()\n",
    "for name, model in models.items():\n",
    "\tscores = evaluate_model(model, X, y)\n",
    "\tresults.append(scores)\n",
    "\tnames.append(name)\n",
    "\tprint('>%s %.3f (%.3f)' % (name, mean(scores), std(scores)))\n",
    "# plot model performance for comparison\n",
    "pyplot.boxplot(results, labels=names, showmeans=True)\n",
    "pyplot.show()"
   ]
  },
  {
   "cell_type": "code",
   "execution_count": null,
   "metadata": {},
   "outputs": [],
   "source": [
    "models"
   ]
  },
  {
   "cell_type": "code",
   "execution_count": 3,
   "metadata": {
    "execution": {
     "iopub.execute_input": "2020-07-08T23:01:05.797730Z",
     "iopub.status.busy": "2020-07-08T23:01:05.796733Z",
     "iopub.status.idle": "2020-07-08T23:01:06.150622Z",
     "shell.execute_reply": "2020-07-08T23:01:06.150622Z",
     "shell.execute_reply.started": "2020-07-08T23:01:05.797730Z"
    }
   },
   "outputs": [
    {
     "ename": "NameError",
     "evalue": "name 'pipeline' is not defined",
     "output_type": "error",
     "traceback": [
      "\u001b[1;31m---------------------------------------------------------------------------\u001b[0m",
      "\u001b[1;31mNameError\u001b[0m                                 Traceback (most recent call last)",
      "\u001b[1;32m<ipython-input-3-f11ace7323d6>\u001b[0m in \u001b[0;36m<module>\u001b[1;34m\u001b[0m\n\u001b[0;32m      1\u001b[0m \u001b[1;32mfrom\u001b[0m \u001b[0msklearn\u001b[0m\u001b[1;33m.\u001b[0m\u001b[0mmetrics\u001b[0m \u001b[1;32mimport\u001b[0m \u001b[0mconfusion_matrix\u001b[0m\u001b[1;33m,\u001b[0m \u001b[0maccuracy_score\u001b[0m\u001b[1;33m,\u001b[0m \u001b[0mf1_score\u001b[0m\u001b[1;33m,\u001b[0m \u001b[0mclassification_report\u001b[0m\u001b[1;33m,\u001b[0m \u001b[0mbalanced_accuracy_score\u001b[0m\u001b[1;33m\u001b[0m\u001b[1;33m\u001b[0m\u001b[0m\n\u001b[1;32m----> 2\u001b[1;33m \u001b[0mpred_svm\u001b[0m \u001b[1;33m=\u001b[0m \u001b[0mpipeline\u001b[0m\u001b[1;33m.\u001b[0m\u001b[0mpredict\u001b[0m\u001b[1;33m(\u001b[0m\u001b[0mX_test\u001b[0m\u001b[1;33m)\u001b[0m\u001b[1;33m\u001b[0m\u001b[1;33m\u001b[0m\u001b[0m\n\u001b[0m\u001b[0;32m      3\u001b[0m \u001b[0maccuracy\u001b[0m \u001b[1;33m=\u001b[0m \u001b[0mbalanced_accuracy_score\u001b[0m\u001b[1;33m(\u001b[0m\u001b[0my\u001b[0m\u001b[1;33m,\u001b[0m\u001b[0mpred\u001b[0m\u001b[1;33m)\u001b[0m\u001b[1;33m\u001b[0m\u001b[1;33m\u001b[0m\u001b[0m\n\u001b[0;32m      4\u001b[0m \u001b[0mprint\u001b[0m\u001b[1;33m(\u001b[0m\u001b[1;34m'balanced_accuracy_score: '\u001b[0m \u001b[1;33m+\u001b[0m \u001b[0mstr\u001b[0m\u001b[1;33m(\u001b[0m\u001b[0mround\u001b[0m\u001b[1;33m(\u001b[0m\u001b[0maccuracy\u001b[0m\u001b[1;33m,\u001b[0m\u001b[1;36m2\u001b[0m\u001b[1;33m)\u001b[0m\u001b[1;33m)\u001b[0m\u001b[1;33m)\u001b[0m\u001b[1;33m\u001b[0m\u001b[1;33m\u001b[0m\u001b[0m\n",
      "\u001b[1;31mNameError\u001b[0m: name 'pipeline' is not defined"
     ]
    }
   ],
   "source": [
    "from sklearn.metrics import confusion_matrix, accuracy_score, f1_score, classification_report, balanced_accuracy_score\n",
    "pred_svm = pipeline.predict(X_test)\n",
    "accuracy = balanced_accuracy_score(y,pred)    \n",
    "print('balanced_accuracy_score: ' + str(round(accuracy,2)))   "
   ]
  }
 ],
 "metadata": {
  "kernelspec": {
   "display_name": "Python 3.7.8 64-bit ('data-science': conda)",
   "language": "python",
   "name": "python37664bitdatascienceconda1f57879554394e3fa4d3e34eec580a38"
  },
  "language_info": {
   "codemirror_mode": {
    "name": "ipython",
    "version": 3
   },
   "file_extension": ".py",
   "mimetype": "text/x-python",
   "name": "python",
   "nbconvert_exporter": "python",
   "pygments_lexer": "ipython3",
   "version": "3.7.6"
  }
 },
 "nbformat": 4,
 "nbformat_minor": 4
}
