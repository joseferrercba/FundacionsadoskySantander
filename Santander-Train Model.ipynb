{
 "cells": [
  {
   "cell_type": "markdown",
   "metadata": {
    "colab_type": "text",
    "id": "VO1VDc-Nse7o"
   },
   "source": [
    "### Import Libraries"
   ]
  },
  {
   "cell_type": "code",
   "execution_count": 1,
   "metadata": {
    "execution": {
     "iopub.execute_input": "2020-07-08T12:32:52.905727Z",
     "iopub.status.busy": "2020-07-08T12:32:52.904727Z",
     "iopub.status.idle": "2020-07-08T12:32:52.956723Z",
     "shell.execute_reply": "2020-07-08T12:32:52.955723Z",
     "shell.execute_reply.started": "2020-07-08T12:32:52.905727Z"
    },
    "tags": []
   },
   "outputs": [],
   "source": [
    "%reload_ext autoreload"
   ]
  },
  {
   "cell_type": "code",
   "execution_count": 2,
   "metadata": {
    "execution": {
     "iopub.execute_input": "2020-07-08T12:32:52.958723Z",
     "iopub.status.busy": "2020-07-08T12:32:52.957727Z",
     "iopub.status.idle": "2020-07-08T12:32:54.958201Z",
     "shell.execute_reply": "2020-07-08T12:32:54.957223Z",
     "shell.execute_reply.started": "2020-07-08T12:32:52.958723Z"
    }
   },
   "outputs": [],
   "source": [
    "import warnings\n",
    "warnings.filterwarnings(\"ignore\")\n",
    "import nltk\n",
    "import pandas as pd \n",
    "import numpy as np\n",
    "import io\n",
    "import os\n",
    "import json\n",
    "import xgboost as xgb\n",
    "import lightgbm as lgb\n",
    "from classes.CustomTokenizer import CustomTokenizer\n",
    "from classes.Accuracy import Accuracy\n",
    "from classes.ModelBuilder import ModelBuilder\n",
    "from sklearn import preprocessing\n",
    "from sklearn.utils import resample, shuffle\n",
    "from sklearn.tree import DecisionTreeClassifier\n",
    "from sklearn.svm import LinearSVC, SVC\n",
    "from sklearn.model_selection import train_test_split\n",
    "from sklearn.feature_extraction.text import CountVectorizer, TfidfTransformer, TfidfVectorizer\n",
    "from sklearn.pipeline import Pipeline\n",
    "from sklearn.metrics import classification_report\n",
    "from sklearn.naive_bayes import GaussianNB\n",
    "from sklearn.neighbors import KNeighborsClassifier\n",
    "from sklearn.ensemble import RandomForestClassifier, AdaBoostClassifier, GradientBoostingClassifier\n",
    "pd.set_option('display.max_colwidth', 600)\n",
    "pd.set_option('display.max_columns', None)\n",
    "pd.set_option('display.max_rows', None)"
   ]
  },
  {
   "cell_type": "markdown",
   "metadata": {},
   "source": [
    "### Select Classifier"
   ]
  },
  {
   "cell_type": "code",
   "execution_count": 3,
   "metadata": {
    "execution": {
     "iopub.execute_input": "2020-07-08T12:32:54.960198Z",
     "iopub.status.busy": "2020-07-08T12:32:54.960198Z",
     "iopub.status.idle": "2020-07-08T12:32:54.974187Z",
     "shell.execute_reply": "2020-07-08T12:32:54.973221Z",
     "shell.execute_reply.started": "2020-07-08T12:32:54.960198Z"
    }
   },
   "outputs": [],
   "source": [
    "classifier = SVC()"
   ]
  },
  {
   "cell_type": "markdown",
   "metadata": {},
   "source": [
    "### Helper Code"
   ]
  },
  {
   "cell_type": "code",
   "execution_count": 4,
   "metadata": {
    "execution": {
     "iopub.execute_input": "2020-07-08T12:32:54.977187Z",
     "iopub.status.busy": "2020-07-08T12:32:54.976212Z",
     "iopub.status.idle": "2020-07-08T12:32:54.990184Z",
     "shell.execute_reply": "2020-07-08T12:32:54.989215Z",
     "shell.execute_reply.started": "2020-07-08T12:32:54.977187Z"
    }
   },
   "outputs": [],
   "source": [
    "labelEncoders = dict()\n",
    "def labelEncoder(df, column, params = {}):    \n",
    "    le = preprocessing.LabelEncoder()        \n",
    "    le.fit(df[column])    \n",
    "    column_encoded = le.transform(df[column])\n",
    "    labelEncoders[column] = le\n",
    "    return column_encoded"
   ]
  },
  {
   "cell_type": "markdown",
   "metadata": {},
   "source": [
    "### Get Info from CSV"
   ]
  },
  {
   "cell_type": "code",
   "execution_count": 5,
   "metadata": {
    "execution": {
     "iopub.execute_input": "2020-07-08T12:32:54.991187Z",
     "iopub.status.busy": "2020-07-08T12:32:54.991187Z",
     "iopub.status.idle": "2020-07-08T12:32:55.053199Z",
     "shell.execute_reply": "2020-07-08T12:32:55.052221Z",
     "shell.execute_reply.started": "2020-07-08T12:32:54.991187Z"
    },
    "tags": []
   },
   "outputs": [
    {
     "name": "stdout",
     "output_type": "stream",
     "text": [
      "Train Shape: (20104, 4)\n",
      "Test Shape: (6702, 2)\n"
     ]
    }
   ],
   "source": [
    "columns = ['Pregunta', 'Intencion']\n",
    "df_train = shuffle(pd.read_csv('data/train.csv', usecols=columns, sep='|'))\n",
    "df_test = shuffle(pd.read_csv('data/test_santander.csv', usecols=['id','Pregunta']))\n",
    "\n",
    "df_train['Intencion_cat_label'] = df_train['Intencion'].str[4:]\n",
    "df_train['Intencion_cat_label'] = df_train['Intencion_cat_label'].astype('int32')\n",
    "df_train['Intencion_encoded'] = labelEncoder(df_train, 'Intencion')\n",
    "\n",
    "print('Train Shape: ' + str(df_train.shape))\n",
    "print('Test Shape: ' + str(df_test.shape))"
   ]
  },
  {
   "cell_type": "code",
   "execution_count": 6,
   "metadata": {
    "execution": {
     "iopub.execute_input": "2020-07-08T12:32:55.055184Z",
     "iopub.status.busy": "2020-07-08T12:32:55.054196Z",
     "iopub.status.idle": "2020-07-08T12:32:55.069186Z",
     "shell.execute_reply": "2020-07-08T12:32:55.068184Z",
     "shell.execute_reply.started": "2020-07-08T12:32:55.055184Z"
    }
   },
   "outputs": [],
   "source": [
    "X = df_train['Pregunta'].values\n",
    "y = df_train['Intencion_encoded'].values"
   ]
  },
  {
   "cell_type": "code",
   "execution_count": 7,
   "metadata": {
    "execution": {
     "iopub.execute_input": "2020-07-08T12:32:55.070186Z",
     "iopub.status.busy": "2020-07-08T12:32:55.070186Z",
     "iopub.status.idle": "2020-07-08T12:32:55.086206Z",
     "shell.execute_reply": "2020-07-08T12:32:55.084218Z",
     "shell.execute_reply.started": "2020-07-08T12:32:55.070186Z"
    },
    "jupyter": {
     "source_hidden": true
    },
    "tags": []
   },
   "outputs": [],
   "source": [
    "df_array = pd.DataFrame(columns=df_train.columns)\n",
    "enableResample = False\n",
    "if enableResample == True:\n",
    "    max_value = df_train['Intencion'].value_counts()[0]\n",
    "    unique_cat = df_train['Intencion'].unique()\n",
    "    for category in list(unique_cat):\n",
    "        df_cat_filter = df_train[df_train['Intencion'] == category]        \n",
    "        if len(df_cat_filter) < max_value:\n",
    "            # upsample minority\n",
    "            df_cat_filter = pd.DataFrame(resample(df_cat_filter, replace=True, # sample with replacement\n",
    "                                     n_samples=max_value # match number in majority class\n",
    "                                    ) # reproducible results\n",
    "                                        )                \n",
    "        df_array = df_array.append(df_cat_filter, ignore_index=True)\n",
    "    # combine majority and upsampled minority      \n",
    "    X = df_array['Pregunta'].values\n",
    "    y = df_array['Intencion_encoded'].values\n",
    "    print(df_array.Intencion.value_counts())"
   ]
  },
  {
   "cell_type": "markdown",
   "metadata": {},
   "source": [
    "### train_test_split"
   ]
  },
  {
   "cell_type": "code",
   "execution_count": 8,
   "metadata": {
    "execution": {
     "iopub.execute_input": "2020-07-08T12:32:55.087186Z",
     "iopub.status.busy": "2020-07-08T12:32:55.087186Z",
     "iopub.status.idle": "2020-07-08T12:32:55.101215Z",
     "shell.execute_reply": "2020-07-08T12:32:55.100187Z",
     "shell.execute_reply.started": "2020-07-08T12:32:55.087186Z"
    }
   },
   "outputs": [],
   "source": [
    "X_train, X_test, y_train, y_test = train_test_split(np.array(X), y, test_size = 0.20)\n",
    "y_train = y_train.astype('int')\n",
    "y_test = y_test.astype('int')"
   ]
  },
  {
   "cell_type": "code",
   "execution_count": null,
   "metadata": {
    "execution": {
     "iopub.execute_input": "2020-07-08T12:32:55.103192Z",
     "iopub.status.busy": "2020-07-08T12:32:55.103192Z"
    },
    "tags": []
   },
   "outputs": [
    {
     "name": "stdout",
     "output_type": "stream",
     "text": [
      "Training Model...\n"
     ]
    }
   ],
   "source": [
    "modelBuilder = ModelBuilder()\n",
    "optimized_model, model_best_params = modelBuilder.GenerateTrainedModel(classifier, \n",
    "                                                                        X_train, \n",
    "                                                                        X_test, \n",
    "                                                                        y_train, \n",
    "                                                                        y_test)\n",
    "\n",
    "pred = optimized_model.predict(X_test)\n",
    "#Compute the balanced accuracy\n",
    "#The balanced accuracy in binary and multiclass classification problems to deal with imbalanced datasets. It is defined as the average of recall obtained on each class.\n",
    "#The best value is 1 and the worst value is 0 when adjusted=False.\n",
    "balanced_accuracy_score = Accuracy.get_balanced_accuracy_score(y_test, pred)\n",
    "accuracy_score = Accuracy.get_accuracy_score(y_test, pred)"
   ]
  },
  {
   "cell_type": "markdown",
   "metadata": {},
   "source": [
    "### Save Accuracy on CSV file"
   ]
  },
  {
   "cell_type": "code",
   "execution_count": null,
   "metadata": {},
   "outputs": [],
   "source": [
    "columns = ['model_name', 'accuracy_score', 'balanced_accuracy_score', 'model_best_params']\n",
    "data = {\n",
    "    'model_name': classifier.__class__.__name__, \n",
    "    'accuracy_score': accuracy_score, \n",
    "    'balanced_accuracy_score': balanced_accuracy_score, \n",
    "    'model_best_params': [model_best_params]\n",
    "}\n",
    "df_accuracy = pd.DataFrame(data=data,\n",
    "                            columns=columns)\n",
    "ACCURACY_FILENAME = 'data/accuracy.csv'\n",
    "fileexists = os.path.isfile(ACCURACY_FILENAME)\n",
    "header = False\n",
    "mode = 'a'\n",
    "if fileexists == False:\n",
    "    mode='w'\n",
    "    header=True    \n",
    "df_accuracy.to_csv(ACCURACY_FILENAME,mode=mode, header=header, columns=columns, index=False, sep=',')\n",
    "df_accuracy"
   ]
  },
  {
   "cell_type": "markdown",
   "metadata": {},
   "source": [
    "### Classification Report"
   ]
  },
  {
   "cell_type": "code",
   "execution_count": null,
   "metadata": {
    "tags": []
   },
   "outputs": [],
   "source": [
    "encoder = preprocessing.LabelEncoder()        \n",
    "encoder.fit(df_train['Intencion'])    \n",
    "y_test_labels = encoder.inverse_transform(y_test)\n",
    "pred_labels = list(encoder.inverse_transform(pred))\n",
    "report = Accuracy.get_classification_report(y_test_labels, pred_labels)"
   ]
  },
  {
   "cell_type": "markdown",
   "metadata": {},
   "source": [
    "### Save predicted test to CSV"
   ]
  },
  {
   "cell_type": "code",
   "execution_count": null,
   "metadata": {
    "tags": []
   },
   "outputs": [],
   "source": [
    "pred_det = optimized_model.predict(df_test['Pregunta'])\n",
    "df_test['Intencion'] = pred_det\n",
    "\n",
    "df_test['Intencion_cat_label'] = encoder.inverse_transform(df_test['Intencion'])\n",
    "df_test['Intencion_cat'] = df_test['Intencion_cat_label'].str[4:]\n",
    "SUBMIT_FILE = 'data/submit_{}.csv'.format(classifier.__class__.__name__)\n",
    "df_test.to_csv(SUBMIT_FILE,mode='w', header=False, columns=['id','Intencion_cat'], index=False, sep=',')\n",
    "\n",
    "df_test.sample(3)"
   ]
  },
  {
   "cell_type": "code",
   "execution_count": null,
   "metadata": {},
   "outputs": [],
   "source": []
  },
  {
   "cell_type": "code",
   "execution_count": null,
   "metadata": {},
   "outputs": [],
   "source": []
  }
 ],
 "metadata": {
  "kernelspec": {
   "display_name": "Python 3.7.8 64-bit ('data-science': conda)",
   "language": "python",
   "name": "python37664bitdatascienceconda1f57879554394e3fa4d3e34eec580a38"
  },
  "language_info": {
   "codemirror_mode": {
    "name": "ipython",
    "version": 3
   },
   "file_extension": ".py",
   "mimetype": "text/x-python",
   "name": "python",
   "nbconvert_exporter": "python",
   "pygments_lexer": "ipython3",
   "version": "3.7.6"
  }
 },
 "nbformat": 4,
 "nbformat_minor": 4
}
