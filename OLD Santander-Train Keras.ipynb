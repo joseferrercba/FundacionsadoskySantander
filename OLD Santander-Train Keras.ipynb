{
 "cells": [
  {
   "cell_type": "markdown",
   "metadata": {
    "colab_type": "text",
    "id": "VO1VDc-Nse7o"
   },
   "source": [
    "#### Import Libraries"
   ]
  },
  {
   "cell_type": "code",
   "execution_count": 90,
   "metadata": {
    "execution": {
     "iopub.execute_input": "2020-06-30T02:59:19.214860Z",
     "iopub.status.busy": "2020-06-30T02:59:19.214860Z",
     "iopub.status.idle": "2020-06-30T02:59:19.229862Z",
     "shell.execute_reply": "2020-06-30T02:59:19.228866Z",
     "shell.execute_reply.started": "2020-06-30T02:59:19.214860Z"
    }
   },
   "outputs": [],
   "source": [
    "import warnings\n",
    "warnings.filterwarnings(\"ignore\")\n",
    "import nltk\n",
    "import keras\n",
    "import itertools\n",
    "import joblib\n",
    "import tensorflow as tf\n",
    "import pandas as pd \n",
    "import numpy as np\n",
    "import seaborn as sns\n",
    "import matplotlib\n",
    "import matplotlib.pyplot as plt\n",
    "from CustomTokenizer import CustomTokenizer\n",
    "from sklearn import preprocessing\n",
    "from sklearn.decomposition import TruncatedSVD\n",
    "from sklearn.utils import resample, shuffle\n",
    "from sklearn.model_selection import train_test_split, GridSearchCV, cross_val_score, KFold\n",
    "from sklearn.feature_extraction.text import CountVectorizer, TfidfTransformer, TfidfVectorizer\n",
    "from sklearn.pipeline import Pipeline, make_pipeline\n",
    "from sklearn.metrics import confusion_matrix, accuracy_score, f1_score, classification_report, balanced_accuracy_score\n",
    "from keras.callbacks import EarlyStopping, ModelCheckpoint\n",
    "from keras.layers import Dense, Conv2D, Embedding, Dropout, Conv1D, GlobalMaxPooling1D, LSTM, Bidirectional\n",
    "from keras.wrappers.scikit_learn import KerasClassifier\n",
    "from keras.preprocessing.sequence import pad_sequences\n",
    "from keras.preprocessing.text import Tokenizer\n",
    "from keras.models import Sequential, load_model\n",
    "from keras import layers, Input, Model\n",
    "import re\n",
    "pd.set_option('display.max_colwidth', 200)"
   ]
  },
  {
   "cell_type": "markdown",
   "metadata": {},
   "source": [
    "#### Get Info from CSV"
   ]
  },
  {
   "cell_type": "code",
   "execution_count": 91,
   "metadata": {
    "execution": {
     "iopub.execute_input": "2020-06-30T02:59:19.231869Z",
     "iopub.status.busy": "2020-06-30T02:59:19.230860Z",
     "iopub.status.idle": "2020-06-30T02:59:19.276861Z",
     "shell.execute_reply": "2020-06-30T02:59:19.275893Z",
     "shell.execute_reply.started": "2020-06-30T02:59:19.231869Z"
    }
   },
   "outputs": [],
   "source": [
    "columns = ['Pregunta', 'Intencion']\n",
    "df_train = shuffle(pd.read_csv('train.csv', usecols=columns, sep='|'))\n",
    "df_test = shuffle(pd.read_csv('test_santander.csv', usecols=['id','Pregunta']))"
   ]
  },
  {
   "cell_type": "markdown",
   "metadata": {},
   "source": [
    "#### Helper Code"
   ]
  },
  {
   "cell_type": "code",
   "execution_count": 92,
   "metadata": {
    "execution": {
     "iopub.execute_input": "2020-06-30T02:59:19.278893Z",
     "iopub.status.busy": "2020-06-30T02:59:19.278893Z",
     "iopub.status.idle": "2020-06-30T02:59:19.292860Z",
     "shell.execute_reply": "2020-06-30T02:59:19.291867Z",
     "shell.execute_reply.started": "2020-06-30T02:59:19.278893Z"
    }
   },
   "outputs": [],
   "source": [
    "def show_accuracy(y, pred):    \n",
    "    accuracy = balanced_accuracy_score(y,pred)    \n",
    "    print('balanced_accuracy_score: ' + str(round(accuracy,2)))    \n",
    "\n",
    "labelEncoders = dict()\n",
    "def labelEncoder(df, column, params = {}):    \n",
    "    le = preprocessing.LabelEncoder()        \n",
    "    le.fit(df[column])    \n",
    "    column_encoded = le.transform(df[column])\n",
    "    labelEncoders[column] = le\n",
    "    return column_encoded"
   ]
  },
  {
   "cell_type": "code",
   "execution_count": 93,
   "metadata": {
    "execution": {
     "iopub.execute_input": "2020-06-30T02:59:19.294859Z",
     "iopub.status.busy": "2020-06-30T02:59:19.293860Z",
     "iopub.status.idle": "2020-06-30T02:59:19.323859Z",
     "shell.execute_reply": "2020-06-30T02:59:19.322876Z",
     "shell.execute_reply.started": "2020-06-30T02:59:19.293860Z"
    }
   },
   "outputs": [],
   "source": [
    "df_train['Intencion_cat_label'] = df_train['Intencion'].str[4:]\n",
    "df_train['Intencion_cat_label'] = df_train['Intencion_cat_label'].astype('int32')\n",
    "df_train['Intencion_encoded'] = labelEncoder(df_train, 'Intencion')"
   ]
  },
  {
   "cell_type": "code",
   "execution_count": 94,
   "metadata": {
    "execution": {
     "iopub.execute_input": "2020-06-30T02:59:19.325861Z",
     "iopub.status.busy": "2020-06-30T02:59:19.324861Z",
     "iopub.status.idle": "2020-06-30T02:59:19.370864Z",
     "shell.execute_reply": "2020-06-30T02:59:19.369861Z",
     "shell.execute_reply.started": "2020-06-30T02:59:19.325861Z"
    }
   },
   "outputs": [
    {
     "data": {
      "text/html": [
       "<div>\n",
       "<style scoped>\n",
       "    .dataframe tbody tr th:only-of-type {\n",
       "        vertical-align: middle;\n",
       "    }\n",
       "\n",
       "    .dataframe tbody tr th {\n",
       "        vertical-align: top;\n",
       "    }\n",
       "\n",
       "    .dataframe thead th {\n",
       "        text-align: right;\n",
       "    }\n",
       "</style>\n",
       "<table border=\"1\" class=\"dataframe\">\n",
       "  <thead>\n",
       "    <tr style=\"text-align: right;\">\n",
       "      <th>col_0</th>\n",
       "      <th>count</th>\n",
       "    </tr>\n",
       "    <tr>\n",
       "      <th>Intencion</th>\n",
       "      <th></th>\n",
       "    </tr>\n",
       "  </thead>\n",
       "  <tbody>\n",
       "    <tr>\n",
       "      <th>Cat_0</th>\n",
       "      <td>55</td>\n",
       "    </tr>\n",
       "    <tr>\n",
       "      <th>Cat_1</th>\n",
       "      <td>493</td>\n",
       "    </tr>\n",
       "    <tr>\n",
       "      <th>Cat_10</th>\n",
       "      <td>8</td>\n",
       "    </tr>\n",
       "    <tr>\n",
       "      <th>Cat_100</th>\n",
       "      <td>42</td>\n",
       "    </tr>\n",
       "    <tr>\n",
       "      <th>Cat_101</th>\n",
       "      <td>18</td>\n",
       "    </tr>\n",
       "    <tr>\n",
       "      <th>...</th>\n",
       "      <td>...</td>\n",
       "    </tr>\n",
       "    <tr>\n",
       "      <th>Cat_95</th>\n",
       "      <td>25</td>\n",
       "    </tr>\n",
       "    <tr>\n",
       "      <th>Cat_96</th>\n",
       "      <td>355</td>\n",
       "    </tr>\n",
       "    <tr>\n",
       "      <th>Cat_97</th>\n",
       "      <td>69</td>\n",
       "    </tr>\n",
       "    <tr>\n",
       "      <th>Cat_98</th>\n",
       "      <td>48</td>\n",
       "    </tr>\n",
       "    <tr>\n",
       "      <th>Cat_99</th>\n",
       "      <td>73</td>\n",
       "    </tr>\n",
       "  </tbody>\n",
       "</table>\n",
       "<p>352 rows × 1 columns</p>\n",
       "</div>"
      ],
      "text/plain": [
       "col_0      count\n",
       "Intencion       \n",
       "Cat_0         55\n",
       "Cat_1        493\n",
       "Cat_10         8\n",
       "Cat_100       42\n",
       "Cat_101       18\n",
       "...          ...\n",
       "Cat_95        25\n",
       "Cat_96       355\n",
       "Cat_97        69\n",
       "Cat_98        48\n",
       "Cat_99        73\n",
       "\n",
       "[352 rows x 1 columns]"
      ]
     },
     "execution_count": 94,
     "metadata": {},
     "output_type": "execute_result"
    }
   ],
   "source": [
    "#Frequency distribution of classes\"\n",
    "train_outcome = pd.crosstab(index=df_train[\"Intencion\"],  # Make a crosstab\n",
    "                              columns=\"count\")      # Name the count column\n",
    "\n",
    "train_outcome\n"
   ]
  },
  {
   "cell_type": "code",
   "execution_count": 95,
   "metadata": {
    "execution": {
     "iopub.execute_input": "2020-06-30T02:59:19.372880Z",
     "iopub.status.busy": "2020-06-30T02:59:19.371860Z",
     "iopub.status.idle": "2020-06-30T02:59:19.386861Z",
     "shell.execute_reply": "2020-06-30T02:59:19.385862Z",
     "shell.execute_reply.started": "2020-06-30T02:59:19.372880Z"
    }
   },
   "outputs": [],
   "source": [
    "X = df_train['Pregunta'].values\n",
    "y = df_train['Intencion_encoded'].values"
   ]
  },
  {
   "cell_type": "code",
   "execution_count": 96,
   "metadata": {
    "execution": {
     "iopub.execute_input": "2020-06-30T02:59:19.388861Z",
     "iopub.status.busy": "2020-06-30T02:59:19.388861Z",
     "iopub.status.idle": "2020-06-30T02:59:19.402878Z",
     "shell.execute_reply": "2020-06-30T02:59:19.401877Z",
     "shell.execute_reply.started": "2020-06-30T02:59:19.388861Z"
    }
   },
   "outputs": [],
   "source": [
    "df_array = pd.DataFrame(columns=df_train.columns)\n",
    "enableResample = False\n",
    "if enableResample == True:\n",
    "    max_value = df_train['Intencion'].value_counts()[0]\n",
    "    unique_cat = df_train['Intencion'].unique()\n",
    "    for category in list(unique_cat):\n",
    "        df_cat_filter = df_train[df_train['Intencion'] == category]        \n",
    "        if len(df_cat_filter) < max_value:\n",
    "            # upsample minority\n",
    "            df_cat_filter = pd.DataFrame(resample(df_cat_filter, replace=True, # sample with replacement\n",
    "                                     n_samples=max_value # match number in majority class\n",
    "                                    ) # reproducible results\n",
    "                                        )                \n",
    "        df_array = df_array.append(df_cat_filter, ignore_index=True)\n",
    "    # combine majority and upsampled minority      \n",
    "    X = df_array['Pregunta'].values\n",
    "    y = df_array['Intencion_encoded'].values\n",
    "    print(df_array.Intencion.value_counts())"
   ]
  },
  {
   "cell_type": "markdown",
   "metadata": {},
   "source": [
    "#### Get Info from CSV"
   ]
  },
  {
   "cell_type": "code",
   "execution_count": 97,
   "metadata": {
    "execution": {
     "iopub.execute_input": "2020-06-30T02:59:19.404860Z",
     "iopub.status.busy": "2020-06-30T02:59:19.404860Z",
     "iopub.status.idle": "2020-06-30T02:59:19.545860Z",
     "shell.execute_reply": "2020-06-30T02:59:19.544946Z",
     "shell.execute_reply.started": "2020-06-30T02:59:19.404860Z"
    }
   },
   "outputs": [],
   "source": [
    "X_train, X_test, y_train, y_test = train_test_split(X, y, test_size = 0.20, shuffle = True)\n",
    "stopwords = nltk.corpus.stopwords.words('spanish')\n",
    "tokenizer = CustomTokenizer()\n",
    "tfidf_vect = TfidfVectorizer(lowercase=True, \n",
    "                             stop_words=stopwords,                              \n",
    "                             strip_accents='ascii', \n",
    "                             tokenizer=tokenizer,\n",
    "                             ngram_range= (1,2),\n",
    "                             sublinear_tf=True,\n",
    "                             analyzer='word',\n",
    "                             token_pattern=\"[\\w']+\")"
   ]
  },
  {
   "cell_type": "code",
   "execution_count": 98,
   "metadata": {
    "execution": {
     "iopub.execute_input": "2020-06-30T02:59:19.547859Z",
     "iopub.status.busy": "2020-06-30T02:59:19.547859Z",
     "iopub.status.idle": "2020-06-30T02:59:19.561874Z",
     "shell.execute_reply": "2020-06-30T02:59:19.560867Z",
     "shell.execute_reply.started": "2020-06-30T02:59:19.547859Z"
    }
   },
   "outputs": [],
   "source": [
    "y_train = y_train.astype('int')\n",
    "y_test = y_test.astype('int')"
   ]
  },
  {
   "cell_type": "markdown",
   "metadata": {},
   "source": [
    "##### Keras"
   ]
  },
  {
   "cell_type": "code",
   "execution_count": 99,
   "metadata": {
    "colab": {},
    "colab_type": "code",
    "execution": {
     "iopub.execute_input": "2020-06-30T02:59:19.563873Z",
     "iopub.status.busy": "2020-06-30T02:59:19.562878Z",
     "iopub.status.idle": "2020-06-30T02:59:36.852874Z",
     "shell.execute_reply": "2020-06-30T02:59:36.851945Z",
     "shell.execute_reply.started": "2020-06-30T02:59:19.563873Z"
    },
    "id": "libtgXCmX2uS"
   },
   "outputs": [],
   "source": [
    "# Model constants.\n",
    "max_features = 20000\n",
    "embedding_dim = 128\n",
    "sequence_length = 500\n",
    "tfidf_vect.fit_transform(X_train)\n",
    "vocab_size = 30982\n",
    "max_length = len(tfidf_vect.get_feature_names())\n",
    "\n",
    "# define baseline model\n",
    "def baseline_model():\n",
    "    # create model\n",
    "    model = Sequential()\n",
    "    model.add(Embedding(vocab_size, 128, input_length = max_length, trainable = False))\n",
    "    model.add(Bidirectional(LSTM(128)))\n",
    "#   model.add(LSTM(128))\n",
    "    model.add(Dense(32, activation = \"relu\"))\n",
    "    model.add(Dropout(0.5))\n",
    "    model.add(Dense(353, activation = \"softmax\"))\n",
    "    model.compile(loss = \"categorical_crossentropy\", optimizer = \"adam\", metrics = [\"accuracy\"])    \n",
    "    return model"
   ]
  },
  {
   "cell_type": "code",
   "execution_count": 100,
   "metadata": {
    "colab": {},
    "colab_type": "code",
    "execution": {
     "iopub.execute_input": "2020-06-30T02:59:36.853858Z",
     "iopub.status.busy": "2020-06-30T02:59:36.853858Z",
     "iopub.status.idle": "2020-06-30T02:59:36.868861Z",
     "shell.execute_reply": "2020-06-30T02:59:36.867861Z",
     "shell.execute_reply.started": "2020-06-30T02:59:36.853858Z"
    },
    "id": "libtgXCmX2uS"
   },
   "outputs": [],
   "source": [
    "keras_param_grid = {\n",
    "    'keras__epochs': [100], \n",
    "}\n",
    "\n",
    "keras = KerasClassifier(build_fn=baseline_model, batch_size=32)\n",
    "pileline = Pipeline(steps=[('vect',tfidf_vect), ('TfidfTransformer', TfidfTransformer()), ('keras', keras)])\n",
    "#kfold = KFold(n_splits=2, shuffle=True)\n",
    "keras_gs = GridSearchCV(pileline, param_grid=keras_param_grid, cv=2, refit=True)"
   ]
  },
  {
   "cell_type": "code",
   "execution_count": null,
   "metadata": {
    "execution": {
     "iopub.execute_input": "2020-06-30T02:59:36.871859Z",
     "iopub.status.busy": "2020-06-30T02:59:36.870859Z"
    }
   },
   "outputs": [],
   "source": [
    "#early_stop = EarlyStopping(monitor='val_loss',patience=20)\n",
    "#keras_gs.fit(X_train, y_train, keras__callbacks=[early_stop])\n",
    "keras_gs.fit(X_train, y_train)\n",
    "optimized_keras = keras_gs.best_estimator_\n",
    "keras_gs.best_params_"
   ]
  },
  {
   "cell_type": "code",
   "execution_count": null,
   "metadata": {},
   "outputs": [],
   "source": [
    "print(\"Training set score for Keras: %f\" % model.score(X_train , y_train))\n",
    "print(\"Testing  set score for Keras: %f\" % model.score(X_test  , y_test ))"
   ]
  },
  {
   "cell_type": "code",
   "execution_count": null,
   "metadata": {},
   "outputs": [],
   "source": [
    "pred_keras = model.predict(X_test)"
   ]
  },
  {
   "cell_type": "code",
   "execution_count": null,
   "metadata": {},
   "outputs": [],
   "source": [
    "#Compute the balanced accuracy\n",
    "#The balanced accuracy in binary and multiclass classification problems to deal with imbalanced datasets. It is defined as the average of recall obtained on each class.\n",
    "#The best value is 1 and the worst value is 0 when adjusted=False.\n",
    "show_accuracy(y_test, pred_keras)"
   ]
  },
  {
   "cell_type": "code",
   "execution_count": null,
   "metadata": {},
   "outputs": [],
   "source": [
    "encoder = labelEncoders['Intencion']\n",
    "y_test_labels = encoder.inverse_transform(y_test)\n",
    "pred_keras_labels = list(encoder.inverse_transform(pred_keras))\n",
    "print(classification_report(y_test_labels, pred_keras_labels))"
   ]
  },
  {
   "cell_type": "markdown",
   "metadata": {},
   "source": [
    "#### Save model to disk"
   ]
  },
  {
   "cell_type": "code",
   "execution_count": null,
   "metadata": {},
   "outputs": [],
   "source": [
    "filename = 'Keras_model.sav'\n",
    "joblib.dump(model, filename)"
   ]
  },
  {
   "cell_type": "code",
   "execution_count": null,
   "metadata": {},
   "outputs": [],
   "source": [
    "pred_keras = model.predict(df_test['Pregunta'])\n",
    "df_test['Intencion'] = pred_keras"
   ]
  },
  {
   "cell_type": "code",
   "execution_count": null,
   "metadata": {},
   "outputs": [],
   "source": [
    "df_test['Intencion_cat_label'] = labelEncoders['Intencion'].inverse_transform(df_test['Intencion'])\n",
    "df_test['Intencion_cat'] = df_test['Intencion_cat_label'].str[4:]"
   ]
  },
  {
   "cell_type": "code",
   "execution_count": null,
   "metadata": {},
   "outputs": [],
   "source": [
    "df_test.sample(3)"
   ]
  },
  {
   "cell_type": "code",
   "execution_count": null,
   "metadata": {},
   "outputs": [],
   "source": [
    "df_test.to_csv('submit_keras.csv',mode='w', header=False, columns=['id','Intencion_cat'], index=False, sep=',')"
   ]
  },
  {
   "cell_type": "code",
   "execution_count": null,
   "metadata": {},
   "outputs": [],
   "source": []
  }
 ],
 "metadata": {
  "kernelspec": {
   "display_name": "Python 3",
   "language": "python",
   "name": "python3"
  },
  "language_info": {
   "codemirror_mode": {
    "name": "ipython",
    "version": 3
   },
   "file_extension": ".py",
   "mimetype": "text/x-python",
   "name": "python",
   "nbconvert_exporter": "python",
   "pygments_lexer": "ipython3",
   "version": "3.7.6"
  }
 },
 "nbformat": 4,
 "nbformat_minor": 4
}
